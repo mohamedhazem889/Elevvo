{
 "cells": [
  {
   "cell_type": "code",
   "execution_count": 166,
   "id": "2342df53",
   "metadata": {},
   "outputs": [],
   "source": [
    "## major\n",
    "import numpy as np\n",
    "import pandas as pd\n",
    "import matplotlib.pyplot as plt\n",
    "import seaborn as sns\n",
    "import missingno\n",
    "import joblib\n",
    "import warnings\n",
    "warnings.filterwarnings('ignore')\n",
    "\n",
    "## sklearn -- preprocessing\n",
    "from sklearn.model_selection import train_test_split\n",
    "from sklearn.preprocessing import PowerTransformer, OrdinalEncoder, PolynomialFeatures,OneHotEncoder,LabelEncoder\n",
    "from sklearn.impute import SimpleImputer\n",
    "from sklearn.pipeline import Pipeline, FeatureUnion\n",
    "from sklearn_features.transformers import DataFrameSelector\n",
    "# detect outliers\n",
    "from datasist.structdata import detect_outliers\n",
    "\n",
    "## sklearn -- metrics\n",
    "from sklearn.metrics import f1_score,precision_score, recall_score\n",
    "\n",
    "## sklearn --Tuning\n",
    "from sklearn.model_selection import GridSearchCV, RandomizedSearchCV\n",
    "\n",
    "## sklearn -- \n",
    "from sklearn.linear_model import LogisticRegression\n",
    "from sklearn.neighbors import KNeighborsClassifier\n",
    "from sklearn.naive_bayes import GaussianNB, MultinomialNB, BernoulliNB\n",
    "from sklearn.svm import SVC\n",
    "from sklearn.tree import DecisionTreeClassifier\n",
    "from sklearn.ensemble import RandomForestClassifier\n",
    "\n",
    "\n",
    "## other\n",
    "from imblearn.over_sampling import SMOTE\n"
   ]
  },
  {
   "cell_type": "markdown",
   "id": "0252dd2b",
   "metadata": {},
   "source": [
    "### `Reading the Dataset and Look at the big picture`"
   ]
  },
  {
   "cell_type": "code",
   "execution_count": 167,
   "id": "7a0c376f",
   "metadata": {},
   "outputs": [
    {
     "data": {
      "text/html": [
       "<div>\n",
       "<style scoped>\n",
       "    .dataframe tbody tr th:only-of-type {\n",
       "        vertical-align: middle;\n",
       "    }\n",
       "\n",
       "    .dataframe tbody tr th {\n",
       "        vertical-align: top;\n",
       "    }\n",
       "\n",
       "    .dataframe thead th {\n",
       "        text-align: right;\n",
       "    }\n",
       "</style>\n",
       "<table border=\"1\" class=\"dataframe\">\n",
       "  <thead>\n",
       "    <tr style=\"text-align: right;\">\n",
       "      <th></th>\n",
       "      <th>no_of_dependents</th>\n",
       "      <th>education</th>\n",
       "      <th>self_employed</th>\n",
       "      <th>income_annum</th>\n",
       "      <th>loan_amount</th>\n",
       "      <th>loan_term</th>\n",
       "      <th>cibil_score</th>\n",
       "      <th>residential_assets_value</th>\n",
       "      <th>commercial_assets_value</th>\n",
       "      <th>luxury_assets_value</th>\n",
       "      <th>bank_asset_value</th>\n",
       "      <th>loan_status</th>\n",
       "    </tr>\n",
       "  </thead>\n",
       "  <tbody>\n",
       "    <tr>\n",
       "      <th>0</th>\n",
       "      <td>2</td>\n",
       "      <td>Graduate</td>\n",
       "      <td>No</td>\n",
       "      <td>9600000</td>\n",
       "      <td>29900000</td>\n",
       "      <td>12</td>\n",
       "      <td>778</td>\n",
       "      <td>2400000</td>\n",
       "      <td>17600000</td>\n",
       "      <td>22700000</td>\n",
       "      <td>8000000</td>\n",
       "      <td>Approved</td>\n",
       "    </tr>\n",
       "    <tr>\n",
       "      <th>1</th>\n",
       "      <td>0</td>\n",
       "      <td>Not Graduate</td>\n",
       "      <td>Yes</td>\n",
       "      <td>4100000</td>\n",
       "      <td>12200000</td>\n",
       "      <td>8</td>\n",
       "      <td>417</td>\n",
       "      <td>2700000</td>\n",
       "      <td>2200000</td>\n",
       "      <td>8800000</td>\n",
       "      <td>3300000</td>\n",
       "      <td>Rejected</td>\n",
       "    </tr>\n",
       "    <tr>\n",
       "      <th>2</th>\n",
       "      <td>3</td>\n",
       "      <td>Graduate</td>\n",
       "      <td>No</td>\n",
       "      <td>9100000</td>\n",
       "      <td>29700000</td>\n",
       "      <td>20</td>\n",
       "      <td>506</td>\n",
       "      <td>7100000</td>\n",
       "      <td>4500000</td>\n",
       "      <td>33300000</td>\n",
       "      <td>12800000</td>\n",
       "      <td>Rejected</td>\n",
       "    </tr>\n",
       "    <tr>\n",
       "      <th>3</th>\n",
       "      <td>3</td>\n",
       "      <td>Graduate</td>\n",
       "      <td>No</td>\n",
       "      <td>8200000</td>\n",
       "      <td>30700000</td>\n",
       "      <td>8</td>\n",
       "      <td>467</td>\n",
       "      <td>18200000</td>\n",
       "      <td>3300000</td>\n",
       "      <td>23300000</td>\n",
       "      <td>7900000</td>\n",
       "      <td>Rejected</td>\n",
       "    </tr>\n",
       "    <tr>\n",
       "      <th>4</th>\n",
       "      <td>5</td>\n",
       "      <td>Not Graduate</td>\n",
       "      <td>Yes</td>\n",
       "      <td>9800000</td>\n",
       "      <td>24200000</td>\n",
       "      <td>20</td>\n",
       "      <td>382</td>\n",
       "      <td>12400000</td>\n",
       "      <td>8200000</td>\n",
       "      <td>29400000</td>\n",
       "      <td>5000000</td>\n",
       "      <td>Rejected</td>\n",
       "    </tr>\n",
       "    <tr>\n",
       "      <th>...</th>\n",
       "      <td>...</td>\n",
       "      <td>...</td>\n",
       "      <td>...</td>\n",
       "      <td>...</td>\n",
       "      <td>...</td>\n",
       "      <td>...</td>\n",
       "      <td>...</td>\n",
       "      <td>...</td>\n",
       "      <td>...</td>\n",
       "      <td>...</td>\n",
       "      <td>...</td>\n",
       "      <td>...</td>\n",
       "    </tr>\n",
       "    <tr>\n",
       "      <th>4264</th>\n",
       "      <td>5</td>\n",
       "      <td>Graduate</td>\n",
       "      <td>Yes</td>\n",
       "      <td>1000000</td>\n",
       "      <td>2300000</td>\n",
       "      <td>12</td>\n",
       "      <td>317</td>\n",
       "      <td>2800000</td>\n",
       "      <td>500000</td>\n",
       "      <td>3300000</td>\n",
       "      <td>800000</td>\n",
       "      <td>Rejected</td>\n",
       "    </tr>\n",
       "    <tr>\n",
       "      <th>4265</th>\n",
       "      <td>0</td>\n",
       "      <td>Not Graduate</td>\n",
       "      <td>Yes</td>\n",
       "      <td>3300000</td>\n",
       "      <td>11300000</td>\n",
       "      <td>20</td>\n",
       "      <td>559</td>\n",
       "      <td>4200000</td>\n",
       "      <td>2900000</td>\n",
       "      <td>11000000</td>\n",
       "      <td>1900000</td>\n",
       "      <td>Approved</td>\n",
       "    </tr>\n",
       "    <tr>\n",
       "      <th>4266</th>\n",
       "      <td>2</td>\n",
       "      <td>Not Graduate</td>\n",
       "      <td>No</td>\n",
       "      <td>6500000</td>\n",
       "      <td>23900000</td>\n",
       "      <td>18</td>\n",
       "      <td>457</td>\n",
       "      <td>1200000</td>\n",
       "      <td>12400000</td>\n",
       "      <td>18100000</td>\n",
       "      <td>7300000</td>\n",
       "      <td>Rejected</td>\n",
       "    </tr>\n",
       "    <tr>\n",
       "      <th>4267</th>\n",
       "      <td>1</td>\n",
       "      <td>Not Graduate</td>\n",
       "      <td>No</td>\n",
       "      <td>4100000</td>\n",
       "      <td>12800000</td>\n",
       "      <td>8</td>\n",
       "      <td>780</td>\n",
       "      <td>8200000</td>\n",
       "      <td>700000</td>\n",
       "      <td>14100000</td>\n",
       "      <td>5800000</td>\n",
       "      <td>Approved</td>\n",
       "    </tr>\n",
       "    <tr>\n",
       "      <th>4268</th>\n",
       "      <td>1</td>\n",
       "      <td>Graduate</td>\n",
       "      <td>No</td>\n",
       "      <td>9200000</td>\n",
       "      <td>29700000</td>\n",
       "      <td>10</td>\n",
       "      <td>607</td>\n",
       "      <td>17800000</td>\n",
       "      <td>11800000</td>\n",
       "      <td>35700000</td>\n",
       "      <td>12000000</td>\n",
       "      <td>Approved</td>\n",
       "    </tr>\n",
       "  </tbody>\n",
       "</table>\n",
       "<p>4269 rows × 12 columns</p>\n",
       "</div>"
      ],
      "text/plain": [
       "      no_of_dependents      education self_employed  income_annum  \\\n",
       "0                    2       Graduate            No       9600000   \n",
       "1                    0   Not Graduate           Yes       4100000   \n",
       "2                    3       Graduate            No       9100000   \n",
       "3                    3       Graduate            No       8200000   \n",
       "4                    5   Not Graduate           Yes       9800000   \n",
       "...                ...            ...           ...           ...   \n",
       "4264                 5       Graduate           Yes       1000000   \n",
       "4265                 0   Not Graduate           Yes       3300000   \n",
       "4266                 2   Not Graduate            No       6500000   \n",
       "4267                 1   Not Graduate            No       4100000   \n",
       "4268                 1       Graduate            No       9200000   \n",
       "\n",
       "      loan_amount  loan_term  cibil_score  residential_assets_value  \\\n",
       "0        29900000         12          778                   2400000   \n",
       "1        12200000          8          417                   2700000   \n",
       "2        29700000         20          506                   7100000   \n",
       "3        30700000          8          467                  18200000   \n",
       "4        24200000         20          382                  12400000   \n",
       "...           ...        ...          ...                       ...   \n",
       "4264      2300000         12          317                   2800000   \n",
       "4265     11300000         20          559                   4200000   \n",
       "4266     23900000         18          457                   1200000   \n",
       "4267     12800000          8          780                   8200000   \n",
       "4268     29700000         10          607                  17800000   \n",
       "\n",
       "      commercial_assets_value  luxury_assets_value  bank_asset_value  \\\n",
       "0                    17600000             22700000           8000000   \n",
       "1                     2200000              8800000           3300000   \n",
       "2                     4500000             33300000          12800000   \n",
       "3                     3300000             23300000           7900000   \n",
       "4                     8200000             29400000           5000000   \n",
       "...                       ...                  ...               ...   \n",
       "4264                   500000              3300000            800000   \n",
       "4265                  2900000             11000000           1900000   \n",
       "4266                 12400000             18100000           7300000   \n",
       "4267                   700000             14100000           5800000   \n",
       "4268                 11800000             35700000          12000000   \n",
       "\n",
       "     loan_status  \n",
       "0       Approved  \n",
       "1       Rejected  \n",
       "2       Rejected  \n",
       "3       Rejected  \n",
       "4       Rejected  \n",
       "...          ...  \n",
       "4264    Rejected  \n",
       "4265    Approved  \n",
       "4266    Rejected  \n",
       "4267    Approved  \n",
       "4268    Approved  \n",
       "\n",
       "[4269 rows x 12 columns]"
      ]
     },
     "execution_count": 167,
     "metadata": {},
     "output_type": "execute_result"
    }
   ],
   "source": [
    "df=pd.read_csv(\"loan_approval_dataset.csv\").drop(columns=\"loan_id\", axis=1)\n",
    "df"
   ]
  },
  {
   "cell_type": "code",
   "execution_count": 168,
   "id": "5b0fd3e0",
   "metadata": {},
   "outputs": [
    {
     "name": "stdout",
     "output_type": "stream",
     "text": [
      "<class 'pandas.core.frame.DataFrame'>\n",
      "RangeIndex: 4269 entries, 0 to 4268\n",
      "Data columns (total 12 columns):\n",
      " #   Column                     Non-Null Count  Dtype \n",
      "---  ------                     --------------  ----- \n",
      " 0    no_of_dependents          4269 non-null   int64 \n",
      " 1    education                 4269 non-null   object\n",
      " 2    self_employed             4269 non-null   object\n",
      " 3    income_annum              4269 non-null   int64 \n",
      " 4    loan_amount               4269 non-null   int64 \n",
      " 5    loan_term                 4269 non-null   int64 \n",
      " 6    cibil_score               4269 non-null   int64 \n",
      " 7    residential_assets_value  4269 non-null   int64 \n",
      " 8    commercial_assets_value   4269 non-null   int64 \n",
      " 9    luxury_assets_value       4269 non-null   int64 \n",
      " 10   bank_asset_value          4269 non-null   int64 \n",
      " 11   loan_status               4269 non-null   object\n",
      "dtypes: int64(9), object(3)\n",
      "memory usage: 400.3+ KB\n"
     ]
    }
   ],
   "source": [
    "df.info()"
   ]
  },
  {
   "cell_type": "code",
   "execution_count": 169,
   "id": "12ac1191",
   "metadata": {},
   "outputs": [
    {
     "data": {
      "text/html": [
       "<div>\n",
       "<style scoped>\n",
       "    .dataframe tbody tr th:only-of-type {\n",
       "        vertical-align: middle;\n",
       "    }\n",
       "\n",
       "    .dataframe tbody tr th {\n",
       "        vertical-align: top;\n",
       "    }\n",
       "\n",
       "    .dataframe thead th {\n",
       "        text-align: right;\n",
       "    }\n",
       "</style>\n",
       "<table border=\"1\" class=\"dataframe\">\n",
       "  <thead>\n",
       "    <tr style=\"text-align: right;\">\n",
       "      <th></th>\n",
       "      <th>no_of_dependents</th>\n",
       "      <th>income_annum</th>\n",
       "      <th>loan_amount</th>\n",
       "      <th>loan_term</th>\n",
       "      <th>cibil_score</th>\n",
       "      <th>residential_assets_value</th>\n",
       "      <th>commercial_assets_value</th>\n",
       "      <th>luxury_assets_value</th>\n",
       "      <th>bank_asset_value</th>\n",
       "    </tr>\n",
       "  </thead>\n",
       "  <tbody>\n",
       "    <tr>\n",
       "      <th>count</th>\n",
       "      <td>4269.000000</td>\n",
       "      <td>4.269000e+03</td>\n",
       "      <td>4.269000e+03</td>\n",
       "      <td>4269.000000</td>\n",
       "      <td>4269.000000</td>\n",
       "      <td>4.269000e+03</td>\n",
       "      <td>4.269000e+03</td>\n",
       "      <td>4.269000e+03</td>\n",
       "      <td>4.269000e+03</td>\n",
       "    </tr>\n",
       "    <tr>\n",
       "      <th>mean</th>\n",
       "      <td>2.498712</td>\n",
       "      <td>5.059124e+06</td>\n",
       "      <td>1.513345e+07</td>\n",
       "      <td>10.900445</td>\n",
       "      <td>599.936051</td>\n",
       "      <td>7.472617e+06</td>\n",
       "      <td>4.973155e+06</td>\n",
       "      <td>1.512631e+07</td>\n",
       "      <td>4.976692e+06</td>\n",
       "    </tr>\n",
       "    <tr>\n",
       "      <th>std</th>\n",
       "      <td>1.695910</td>\n",
       "      <td>2.806840e+06</td>\n",
       "      <td>9.043363e+06</td>\n",
       "      <td>5.709187</td>\n",
       "      <td>172.430401</td>\n",
       "      <td>6.503637e+06</td>\n",
       "      <td>4.388966e+06</td>\n",
       "      <td>9.103754e+06</td>\n",
       "      <td>3.250185e+06</td>\n",
       "    </tr>\n",
       "    <tr>\n",
       "      <th>min</th>\n",
       "      <td>0.000000</td>\n",
       "      <td>2.000000e+05</td>\n",
       "      <td>3.000000e+05</td>\n",
       "      <td>2.000000</td>\n",
       "      <td>300.000000</td>\n",
       "      <td>-1.000000e+05</td>\n",
       "      <td>0.000000e+00</td>\n",
       "      <td>3.000000e+05</td>\n",
       "      <td>0.000000e+00</td>\n",
       "    </tr>\n",
       "    <tr>\n",
       "      <th>25%</th>\n",
       "      <td>1.000000</td>\n",
       "      <td>2.700000e+06</td>\n",
       "      <td>7.700000e+06</td>\n",
       "      <td>6.000000</td>\n",
       "      <td>453.000000</td>\n",
       "      <td>2.200000e+06</td>\n",
       "      <td>1.300000e+06</td>\n",
       "      <td>7.500000e+06</td>\n",
       "      <td>2.300000e+06</td>\n",
       "    </tr>\n",
       "    <tr>\n",
       "      <th>50%</th>\n",
       "      <td>3.000000</td>\n",
       "      <td>5.100000e+06</td>\n",
       "      <td>1.450000e+07</td>\n",
       "      <td>10.000000</td>\n",
       "      <td>600.000000</td>\n",
       "      <td>5.600000e+06</td>\n",
       "      <td>3.700000e+06</td>\n",
       "      <td>1.460000e+07</td>\n",
       "      <td>4.600000e+06</td>\n",
       "    </tr>\n",
       "    <tr>\n",
       "      <th>75%</th>\n",
       "      <td>4.000000</td>\n",
       "      <td>7.500000e+06</td>\n",
       "      <td>2.150000e+07</td>\n",
       "      <td>16.000000</td>\n",
       "      <td>748.000000</td>\n",
       "      <td>1.130000e+07</td>\n",
       "      <td>7.600000e+06</td>\n",
       "      <td>2.170000e+07</td>\n",
       "      <td>7.100000e+06</td>\n",
       "    </tr>\n",
       "    <tr>\n",
       "      <th>max</th>\n",
       "      <td>5.000000</td>\n",
       "      <td>9.900000e+06</td>\n",
       "      <td>3.950000e+07</td>\n",
       "      <td>20.000000</td>\n",
       "      <td>900.000000</td>\n",
       "      <td>2.910000e+07</td>\n",
       "      <td>1.940000e+07</td>\n",
       "      <td>3.920000e+07</td>\n",
       "      <td>1.470000e+07</td>\n",
       "    </tr>\n",
       "  </tbody>\n",
       "</table>\n",
       "</div>"
      ],
      "text/plain": [
       "       no_of_dependents  income_annum   loan_amount    loan_term  cibil_score  \\\n",
       "count       4269.000000  4.269000e+03  4.269000e+03  4269.000000  4269.000000   \n",
       "mean           2.498712  5.059124e+06  1.513345e+07    10.900445   599.936051   \n",
       "std            1.695910  2.806840e+06  9.043363e+06     5.709187   172.430401   \n",
       "min            0.000000  2.000000e+05  3.000000e+05     2.000000   300.000000   \n",
       "25%            1.000000  2.700000e+06  7.700000e+06     6.000000   453.000000   \n",
       "50%            3.000000  5.100000e+06  1.450000e+07    10.000000   600.000000   \n",
       "75%            4.000000  7.500000e+06  2.150000e+07    16.000000   748.000000   \n",
       "max            5.000000  9.900000e+06  3.950000e+07    20.000000   900.000000   \n",
       "\n",
       "       residential_assets_value  commercial_assets_value  luxury_assets_value  \\\n",
       "count              4.269000e+03             4.269000e+03         4.269000e+03   \n",
       "mean               7.472617e+06             4.973155e+06         1.512631e+07   \n",
       "std                6.503637e+06             4.388966e+06         9.103754e+06   \n",
       "min               -1.000000e+05             0.000000e+00         3.000000e+05   \n",
       "25%                2.200000e+06             1.300000e+06         7.500000e+06   \n",
       "50%                5.600000e+06             3.700000e+06         1.460000e+07   \n",
       "75%                1.130000e+07             7.600000e+06         2.170000e+07   \n",
       "max                2.910000e+07             1.940000e+07         3.920000e+07   \n",
       "\n",
       "       bank_asset_value  \n",
       "count      4.269000e+03  \n",
       "mean       4.976692e+06  \n",
       "std        3.250185e+06  \n",
       "min        0.000000e+00  \n",
       "25%        2.300000e+06  \n",
       "50%        4.600000e+06  \n",
       "75%        7.100000e+06  \n",
       "max        1.470000e+07  "
      ]
     },
     "execution_count": 169,
     "metadata": {},
     "output_type": "execute_result"
    }
   ],
   "source": [
    "df.describe()"
   ]
  },
  {
   "cell_type": "code",
   "execution_count": 170,
   "id": "ac55668d",
   "metadata": {},
   "outputs": [
    {
     "data": {
      "text/plain": [
       "Index([' no_of_dependents', ' education', ' self_employed', ' income_annum',\n",
       "       ' loan_amount', ' loan_term', ' cibil_score',\n",
       "       ' residential_assets_value', ' commercial_assets_value',\n",
       "       ' luxury_assets_value', ' bank_asset_value', ' loan_status'],\n",
       "      dtype='object')"
      ]
     },
     "execution_count": 170,
     "metadata": {},
     "output_type": "execute_result"
    }
   ],
   "source": [
    "df.columns"
   ]
  },
  {
   "cell_type": "code",
   "execution_count": 171,
   "id": "92967082",
   "metadata": {},
   "outputs": [],
   "source": [
    "# the columns names starts with space so we want to rename it \\\n",
    "df.columns = df.columns.str.strip()  # Removes leading/trailing spaces"
   ]
  },
  {
   "cell_type": "code",
   "execution_count": 172,
   "id": "ef7820f6",
   "metadata": {},
   "outputs": [
    {
     "data": {
      "text/plain": [
       "Index(['no_of_dependents', 'education', 'self_employed', 'income_annum',\n",
       "       'loan_amount', 'loan_term', 'cibil_score', 'residential_assets_value',\n",
       "       'commercial_assets_value', 'luxury_assets_value', 'bank_asset_value',\n",
       "       'loan_status'],\n",
       "      dtype='object')"
      ]
     },
     "execution_count": 172,
     "metadata": {},
     "output_type": "execute_result"
    }
   ],
   "source": [
    "df.columns"
   ]
  },
  {
   "cell_type": "code",
   "execution_count": 173,
   "id": "64a7a60c",
   "metadata": {},
   "outputs": [
    {
     "data": {
      "text/plain": [
       "no_of_dependents            0\n",
       "education                   0\n",
       "self_employed               0\n",
       "income_annum                0\n",
       "loan_amount                 0\n",
       "loan_term                   0\n",
       "cibil_score                 0\n",
       "residential_assets_value    0\n",
       "commercial_assets_value     0\n",
       "luxury_assets_value         0\n",
       "bank_asset_value            0\n",
       "loan_status                 0\n",
       "dtype: int64"
      ]
     },
     "execution_count": 173,
     "metadata": {},
     "output_type": "execute_result"
    }
   ],
   "source": [
    "df.isna().sum().sort_values(ascending=False) "
   ]
  },
  {
   "cell_type": "code",
   "execution_count": 174,
   "id": "3179fbe4",
   "metadata": {},
   "outputs": [
    {
     "data": {
      "text/plain": [
       "np.int64(0)"
      ]
     },
     "execution_count": 174,
     "metadata": {},
     "output_type": "execute_result"
    }
   ],
   "source": [
    "df.duplicated().sum()"
   ]
  },
  {
   "cell_type": "markdown",
   "id": "c3f98bb7",
   "metadata": {},
   "source": [
    "# EDA"
   ]
  },
  {
   "cell_type": "code",
   "execution_count": 175,
   "id": "a85a3aac",
   "metadata": {},
   "outputs": [],
   "source": [
    "numerical_features=df.select_dtypes(include=\"number\").columns.to_list()\n",
    "caterogical_features=df.select_dtypes(exclude=\"number\").columns.to_list()"
   ]
  },
  {
   "cell_type": "code",
   "execution_count": 176,
   "id": "f9c4d064",
   "metadata": {},
   "outputs": [
    {
     "data": {
      "text/plain": [
       "['no_of_dependents',\n",
       " 'income_annum',\n",
       " 'loan_amount',\n",
       " 'loan_term',\n",
       " 'cibil_score',\n",
       " 'residential_assets_value',\n",
       " 'commercial_assets_value',\n",
       " 'luxury_assets_value',\n",
       " 'bank_asset_value']"
      ]
     },
     "execution_count": 176,
     "metadata": {},
     "output_type": "execute_result"
    }
   ],
   "source": [
    "numerical_features"
   ]
  },
  {
   "cell_type": "code",
   "execution_count": 177,
   "id": "b5d96518",
   "metadata": {},
   "outputs": [
    {
     "data": {
      "text/plain": [
       "['education', 'self_employed', 'loan_status']"
      ]
     },
     "execution_count": 177,
     "metadata": {},
     "output_type": "execute_result"
    }
   ],
   "source": [
    "caterogical_features"
   ]
  },
  {
   "cell_type": "code",
   "execution_count": 178,
   "id": "e06479c1",
   "metadata": {},
   "outputs": [
    {
     "data": {
      "image/png": "[encoded data removed]",
      "text/plain": [
       "<Figure size 2000x1000 with 9 Axes>"
      ]
     },
     "metadata": {},
     "output_type": "display_data"
    }
   ],
   "source": [
    "## Distribution for Numerical\n",
    "df.hist(bins=40, figsize=(20, 10))\n",
    "plt.show()"
   ]
  },
  {
   "cell_type": "code",
   "execution_count": 179,
   "id": "e49ac6d7",
   "metadata": {},
   "outputs": [
    {
     "data": {
      "image/png": "[encoded data removed]",
      "text/plain": [
       "<Figure size 2000x1000 with 9 Axes>"
      ]
     },
     "metadata": {},
     "output_type": "display_data"
    }
   ],
   "source": [
    "## Distribution for Numerical again\n",
    "df.hist(bins=30, figsize=(20, 10))\n",
    "plt.show()"
   ]
  },
  {
   "cell_type": "code",
   "execution_count": 180,
   "id": "b5774f5a",
   "metadata": {},
   "outputs": [
    {
     "data": {
      "text/plain": [
       "<Axes: xlabel='education', ylabel='count'>"
      ]
     },
     "execution_count": 180,
     "metadata": {},
     "output_type": "execute_result"
    },
    {
     "data": {
      "image/png": "[encoded data removed]",
      "text/plain": [
       "<Figure size 1000x600 with 1 Axes>"
      ]
     },
     "metadata": {},
     "output_type": "display_data"
    }
   ],
   "source": [
    "## Countplot for education\n",
    "plt.figure(figsize=(10, 6))\n",
    "sns.countplot(data=df, x='education', order=df['education'].value_counts().index.tolist())  ## title, xlabel, ylabel, figsize"
   ]
  },
  {
   "cell_type": "code",
   "execution_count": 181,
   "id": "afd6b922",
   "metadata": {},
   "outputs": [
    {
     "data": {
      "text/plain": [
       "<Axes: xlabel='self_employed', ylabel='count'>"
      ]
     },
     "execution_count": 181,
     "metadata": {},
     "output_type": "execute_result"
    },
    {
     "data": {
      "image/png": "[encoded data removed]",
      "text/plain": [
       "<Figure size 1000x600 with 1 Axes>"
      ]
     },
     "metadata": {},
     "output_type": "display_data"
    }
   ],
   "source": [
    "## Countplot for self_employed\n",
    "plt.figure(figsize=(10, 6))\n",
    "sns.countplot(data=df, x=\"self_employed\", order=df['self_employed'].value_counts().index.tolist())  ## title, xlabel, ylabel, figsize"
   ]
  },
  {
   "cell_type": "code",
   "execution_count": 182,
   "id": "762dccaa",
   "metadata": {},
   "outputs": [
    {
     "data": {
      "image/png": "[encoded data removed]",
      "text/plain": [
       "<Figure size 1000x400 with 1 Axes>"
      ]
     },
     "metadata": {},
     "output_type": "display_data"
    },
    {
     "data": {
      "image/png": "[encoded data removed]",
      "text/plain": [
       "<Figure size 1000x400 with 1 Axes>"
      ]
     },
     "metadata": {},
     "output_type": "display_data"
    },
    {
     "data": {
      "image/png": "[encoded data removed]",
      "text/plain": [
       "<Figure size 1000x400 with 1 Axes>"
      ]
     },
     "metadata": {},
     "output_type": "display_data"
    },
    {
     "data": {
      "image/png": "[encoded data removed]",
      "text/plain": [
       "<Figure size 1000x400 with 1 Axes>"
      ]
     },
     "metadata": {},
     "output_type": "display_data"
    },
    {
     "data": {
      "image/png": "[encoded data removed]",
      "text/plain": [
       "<Figure size 1000x400 with 1 Axes>"
      ]
     },
     "metadata": {},
     "output_type": "display_data"
    },
    {
     "data": {
      "image/png": "[encoded data removed]",
      "text/plain": [
       "<Figure size 1000x400 with 1 Axes>"
      ]
     },
     "metadata": {},
     "output_type": "display_data"
    },
    {
     "data": {
      "image/png": "[encoded data removed]",
      "text/plain": [
       "<Figure size 1000x400 with 1 Axes>"
      ]
     },
     "metadata": {},
     "output_type": "display_data"
    },
    {
     "data": {
      "image/png": "[encoded data removed]",
      "text/plain": [
       "<Figure size 1000x400 with 1 Axes>"
      ]
     },
     "metadata": {},
     "output_type": "display_data"
    },
    {
     "data": {
      "image/png": "[encoded data removed]",
      "text/plain": [
       "<Figure size 1000x400 with 1 Axes>"
      ]
     },
     "metadata": {},
     "output_type": "display_data"
    }
   ],
   "source": [
    "for feature in numerical_features:\n",
    "    plt.figure(figsize=(10,4))\n",
    "    sns.boxplot(data=df,x=feature,palette=\"Oranges\")\n",
    "    plt.xlabel(feature,fontsize=12,color=\"black\")\n",
    "    plt.ylabel(\"Frequency\",fontsize=14,color=\"black\")\n",
    "    plt.title(f\"{feature} distribution \",fontsize=12,color=\"red\")\n",
    "    plt.grid()\n",
    "    plt.show()"
   ]
  },
  {
   "cell_type": "code",
   "execution_count": 183,
   "id": "37694462",
   "metadata": {},
   "outputs": [
    {
     "data": {
      "text/plain": [
       "91"
      ]
     },
     "execution_count": 183,
     "metadata": {},
     "output_type": "execute_result"
    }
   ],
   "source": [
    "## retrun outliers indecies\n",
    "indecies_outliers = detect_outliers(data=df, n=0, features=numerical_features)\n",
    "len(indecies_outliers)"
   ]
  },
  {
   "cell_type": "code",
   "execution_count": 184,
   "id": "3b458dc4",
   "metadata": {},
   "outputs": [
    {
     "data": {
      "text/html": [
       "<div>\n",
       "<style scoped>\n",
       "    .dataframe tbody tr th:only-of-type {\n",
       "        vertical-align: middle;\n",
       "    }\n",
       "\n",
       "    .dataframe tbody tr th {\n",
       "        vertical-align: top;\n",
       "    }\n",
       "\n",
       "    .dataframe thead th {\n",
       "        text-align: right;\n",
       "    }\n",
       "</style>\n",
       "<table border=\"1\" class=\"dataframe\">\n",
       "  <thead>\n",
       "    <tr style=\"text-align: right;\">\n",
       "      <th></th>\n",
       "      <th>no_of_dependents</th>\n",
       "      <th>education</th>\n",
       "      <th>self_employed</th>\n",
       "      <th>income_annum</th>\n",
       "      <th>loan_amount</th>\n",
       "      <th>loan_term</th>\n",
       "      <th>cibil_score</th>\n",
       "      <th>residential_assets_value</th>\n",
       "      <th>commercial_assets_value</th>\n",
       "      <th>luxury_assets_value</th>\n",
       "      <th>bank_asset_value</th>\n",
       "      <th>loan_status</th>\n",
       "    </tr>\n",
       "  </thead>\n",
       "  <tbody>\n",
       "    <tr>\n",
       "      <th>1</th>\n",
       "      <td>0</td>\n",
       "      <td>Not Graduate</td>\n",
       "      <td>Yes</td>\n",
       "      <td>4100000</td>\n",
       "      <td>12200000</td>\n",
       "      <td>8</td>\n",
       "      <td>417</td>\n",
       "      <td>2700000</td>\n",
       "      <td>2200000</td>\n",
       "      <td>8800000</td>\n",
       "      <td>3300000</td>\n",
       "      <td>Rejected</td>\n",
       "    </tr>\n",
       "    <tr>\n",
       "      <th>2</th>\n",
       "      <td>3</td>\n",
       "      <td>Graduate</td>\n",
       "      <td>No</td>\n",
       "      <td>9100000</td>\n",
       "      <td>29700000</td>\n",
       "      <td>20</td>\n",
       "      <td>506</td>\n",
       "      <td>7100000</td>\n",
       "      <td>4500000</td>\n",
       "      <td>33300000</td>\n",
       "      <td>12800000</td>\n",
       "      <td>Rejected</td>\n",
       "    </tr>\n",
       "    <tr>\n",
       "      <th>3</th>\n",
       "      <td>3</td>\n",
       "      <td>Graduate</td>\n",
       "      <td>No</td>\n",
       "      <td>8200000</td>\n",
       "      <td>30700000</td>\n",
       "      <td>8</td>\n",
       "      <td>467</td>\n",
       "      <td>18200000</td>\n",
       "      <td>3300000</td>\n",
       "      <td>23300000</td>\n",
       "      <td>7900000</td>\n",
       "      <td>Rejected</td>\n",
       "    </tr>\n",
       "    <tr>\n",
       "      <th>4</th>\n",
       "      <td>5</td>\n",
       "      <td>Not Graduate</td>\n",
       "      <td>Yes</td>\n",
       "      <td>9800000</td>\n",
       "      <td>24200000</td>\n",
       "      <td>20</td>\n",
       "      <td>382</td>\n",
       "      <td>12400000</td>\n",
       "      <td>8200000</td>\n",
       "      <td>29400000</td>\n",
       "      <td>5000000</td>\n",
       "      <td>Rejected</td>\n",
       "    </tr>\n",
       "    <tr>\n",
       "      <th>5</th>\n",
       "      <td>0</td>\n",
       "      <td>Graduate</td>\n",
       "      <td>Yes</td>\n",
       "      <td>4800000</td>\n",
       "      <td>13500000</td>\n",
       "      <td>10</td>\n",
       "      <td>319</td>\n",
       "      <td>6800000</td>\n",
       "      <td>8300000</td>\n",
       "      <td>13700000</td>\n",
       "      <td>5100000</td>\n",
       "      <td>Rejected</td>\n",
       "    </tr>\n",
       "    <tr>\n",
       "      <th>...</th>\n",
       "      <td>...</td>\n",
       "      <td>...</td>\n",
       "      <td>...</td>\n",
       "      <td>...</td>\n",
       "      <td>...</td>\n",
       "      <td>...</td>\n",
       "      <td>...</td>\n",
       "      <td>...</td>\n",
       "      <td>...</td>\n",
       "      <td>...</td>\n",
       "      <td>...</td>\n",
       "      <td>...</td>\n",
       "    </tr>\n",
       "    <tr>\n",
       "      <th>4264</th>\n",
       "      <td>5</td>\n",
       "      <td>Graduate</td>\n",
       "      <td>Yes</td>\n",
       "      <td>1000000</td>\n",
       "      <td>2300000</td>\n",
       "      <td>12</td>\n",
       "      <td>317</td>\n",
       "      <td>2800000</td>\n",
       "      <td>500000</td>\n",
       "      <td>3300000</td>\n",
       "      <td>800000</td>\n",
       "      <td>Rejected</td>\n",
       "    </tr>\n",
       "    <tr>\n",
       "      <th>4265</th>\n",
       "      <td>0</td>\n",
       "      <td>Not Graduate</td>\n",
       "      <td>Yes</td>\n",
       "      <td>3300000</td>\n",
       "      <td>11300000</td>\n",
       "      <td>20</td>\n",
       "      <td>559</td>\n",
       "      <td>4200000</td>\n",
       "      <td>2900000</td>\n",
       "      <td>11000000</td>\n",
       "      <td>1900000</td>\n",
       "      <td>Approved</td>\n",
       "    </tr>\n",
       "    <tr>\n",
       "      <th>4266</th>\n",
       "      <td>2</td>\n",
       "      <td>Not Graduate</td>\n",
       "      <td>No</td>\n",
       "      <td>6500000</td>\n",
       "      <td>23900000</td>\n",
       "      <td>18</td>\n",
       "      <td>457</td>\n",
       "      <td>1200000</td>\n",
       "      <td>12400000</td>\n",
       "      <td>18100000</td>\n",
       "      <td>7300000</td>\n",
       "      <td>Rejected</td>\n",
       "    </tr>\n",
       "    <tr>\n",
       "      <th>4267</th>\n",
       "      <td>1</td>\n",
       "      <td>Not Graduate</td>\n",
       "      <td>No</td>\n",
       "      <td>4100000</td>\n",
       "      <td>12800000</td>\n",
       "      <td>8</td>\n",
       "      <td>780</td>\n",
       "      <td>8200000</td>\n",
       "      <td>700000</td>\n",
       "      <td>14100000</td>\n",
       "      <td>5800000</td>\n",
       "      <td>Approved</td>\n",
       "    </tr>\n",
       "    <tr>\n",
       "      <th>4268</th>\n",
       "      <td>1</td>\n",
       "      <td>Graduate</td>\n",
       "      <td>No</td>\n",
       "      <td>9200000</td>\n",
       "      <td>29700000</td>\n",
       "      <td>10</td>\n",
       "      <td>607</td>\n",
       "      <td>17800000</td>\n",
       "      <td>11800000</td>\n",
       "      <td>35700000</td>\n",
       "      <td>12000000</td>\n",
       "      <td>Approved</td>\n",
       "    </tr>\n",
       "  </tbody>\n",
       "</table>\n",
       "<p>4178 rows × 12 columns</p>\n",
       "</div>"
      ],
      "text/plain": [
       "      no_of_dependents      education self_employed  income_annum  \\\n",
       "1                    0   Not Graduate           Yes       4100000   \n",
       "2                    3       Graduate            No       9100000   \n",
       "3                    3       Graduate            No       8200000   \n",
       "4                    5   Not Graduate           Yes       9800000   \n",
       "5                    0       Graduate           Yes       4800000   \n",
       "...                ...            ...           ...           ...   \n",
       "4264                 5       Graduate           Yes       1000000   \n",
       "4265                 0   Not Graduate           Yes       3300000   \n",
       "4266                 2   Not Graduate            No       6500000   \n",
       "4267                 1   Not Graduate            No       4100000   \n",
       "4268                 1       Graduate            No       9200000   \n",
       "\n",
       "      loan_amount  loan_term  cibil_score  residential_assets_value  \\\n",
       "1        12200000          8          417                   2700000   \n",
       "2        29700000         20          506                   7100000   \n",
       "3        30700000          8          467                  18200000   \n",
       "4        24200000         20          382                  12400000   \n",
       "5        13500000         10          319                   6800000   \n",
       "...           ...        ...          ...                       ...   \n",
       "4264      2300000         12          317                   2800000   \n",
       "4265     11300000         20          559                   4200000   \n",
       "4266     23900000         18          457                   1200000   \n",
       "4267     12800000          8          780                   8200000   \n",
       "4268     29700000         10          607                  17800000   \n",
       "\n",
       "      commercial_assets_value  luxury_assets_value  bank_asset_value  \\\n",
       "1                     2200000              8800000           3300000   \n",
       "2                     4500000             33300000          12800000   \n",
       "3                     3300000             23300000           7900000   \n",
       "4                     8200000             29400000           5000000   \n",
       "5                     8300000             13700000           5100000   \n",
       "...                       ...                  ...               ...   \n",
       "4264                   500000              3300000            800000   \n",
       "4265                  2900000             11000000           1900000   \n",
       "4266                 12400000             18100000           7300000   \n",
       "4267                   700000             14100000           5800000   \n",
       "4268                 11800000             35700000          12000000   \n",
       "\n",
       "     loan_status  \n",
       "1       Rejected  \n",
       "2       Rejected  \n",
       "3       Rejected  \n",
       "4       Rejected  \n",
       "5       Rejected  \n",
       "...          ...  \n",
       "4264    Rejected  \n",
       "4265    Approved  \n",
       "4266    Rejected  \n",
       "4267    Approved  \n",
       "4268    Approved  \n",
       "\n",
       "[4178 rows x 12 columns]"
      ]
     },
     "execution_count": 184,
     "metadata": {},
     "output_type": "execute_result"
    }
   ],
   "source": [
    "## drop them all -- a strategy\n",
    "df.drop(index=indecies_outliers, inplace=True, axis=0)\n",
    "df"
   ]
  },
  {
   "cell_type": "code",
   "execution_count": 185,
   "id": "5e48ad3d",
   "metadata": {},
   "outputs": [
    {
     "data": {
      "text/plain": [
       "<Axes: xlabel='loan_status', ylabel='count'>"
      ]
     },
     "execution_count": 185,
     "metadata": {},
     "output_type": "execute_result"
    },
    {
     "data": {
      "image/png": "[encoded data removed]",
      "text/plain": [
       "<Figure size 1000x600 with 1 Axes>"
      ]
     },
     "metadata": {},
     "output_type": "display_data"
    }
   ],
   "source": [
    "## Countplot for self_employed\n",
    "plt.figure(figsize=(10, 6))\n",
    "sns.countplot(data=df, x=\"loan_status\", order=df['loan_status'].value_counts().index.tolist())  ## title, xlabel, ylabel, figsize"
   ]
  },
  {
   "cell_type": "code",
   "execution_count": 186,
   "id": "2101c50a",
   "metadata": {},
   "outputs": [
    {
     "data": {
      "text/plain": [
       "loan_status\n",
       "Approved    2603\n",
       "Rejected    1575\n",
       "Name: count, dtype: int64"
      ]
     },
     "execution_count": 186,
     "metadata": {},
     "output_type": "execute_result"
    }
   ],
   "source": [
    "df[\"loan_status\"].value_counts()"
   ]
  },
  {
   "cell_type": "markdown",
   "id": "a0fd3dfb",
   "metadata": {},
   "source": [
    "target is not balanced"
   ]
  },
  {
   "cell_type": "markdown",
   "id": "6a3e4e34",
   "metadata": {},
   "source": [
    "# Spliting data "
   ]
  },
  {
   "cell_type": "code",
   "execution_count": 187,
   "id": "bbbb59fd",
   "metadata": {},
   "outputs": [
    {
     "name": "stdout",
     "output_type": "stream",
     "text": [
      "X_train.shape \t (2924, 11)\n",
      "y_train.shape \t (2924,)\n",
      "************************************************************\n",
      "X_test.shape \t (1254, 11)\n",
      "y_test.shape \t (1254,)\n"
     ]
    }
   ],
   "source": [
    "## split to faetures and target\n",
    "X = df.drop(columns=[\"loan_status\"], axis=1)   ## faetures\n",
    "y = df[\"loan_status\"]   ## traget\n",
    "\n",
    "X_train, X_test, y_train, y_test = train_test_split(X, y, test_size=0.30, shuffle=True, random_state=42)\n",
    "\n",
    "print('X_train.shape \\t', X_train.shape)\n",
    "print('y_train.shape \\t', y_train.shape)\n",
    "print('***'*20)\n",
    "print('X_test.shape \\t', X_test.shape)\n",
    "print('y_test.shape \\t', y_test.shape)"
   ]
  },
  {
   "cell_type": "markdown",
   "id": "f24580b4",
   "metadata": {},
   "source": [
    "# Data preprocessing "
   ]
  },
  {
   "cell_type": "code",
   "execution_count": 188,
   "id": "009f52df",
   "metadata": {},
   "outputs": [
    {
     "name": "stdout",
     "output_type": "stream",
     "text": [
      "Numerical cols \t ['no_of_dependents', 'income_annum', 'loan_amount', 'loan_term', 'cibil_score', 'residential_assets_value', 'commercial_assets_value', 'luxury_assets_value', 'bank_asset_value']\n",
      "Categorical cols \t ['education', 'self_employed']\n"
     ]
    }
   ],
   "source": [
    "## Get the Numerical and Catgeorcial columns\n",
    "num_cols = X_train.select_dtypes(include='number').columns.tolist()\n",
    "categ_cols = X_train.select_dtypes(exclude='number').columns.tolist()\n",
    "\n",
    "print('Numerical cols \\t', num_cols)\n",
    "print('Categorical cols \\t', categ_cols)"
   ]
  },
  {
   "cell_type": "code",
   "execution_count": 189,
   "id": "65531332",
   "metadata": {},
   "outputs": [],
   "source": [
    "categ_pipe=Pipeline(steps=[\n",
    "    (\"selector\",DataFrameSelector(categ_cols)),\n",
    "    (\"impute\",SimpleImputer(strategy=\"most_frequent\")),\n",
    "    (\"encoder\",OneHotEncoder(sparse_output=False,drop=\"first\"))\n",
    "])\n",
    "num_pipe=Pipeline(steps=[\n",
    "    (\"selector\",DataFrameSelector(num_cols)),\n",
    "    (\"impute\",SimpleImputer(strategy=\"mean\")),\n",
    "    (\"tranform\",PowerTransformer(standardize=True))\n",
    "])\n",
    "all_pipe=FeatureUnion(transformer_list=[\n",
    "    (\"caterogical_pipline\",categ_pipe),\n",
    "    (\"numerical_pipline\",num_pipe)\n",
    "])\n",
    "X_train=all_pipe.fit_transform(X_train)\n",
    "X_test=all_pipe.transform(X_test)"
   ]
  },
  {
   "cell_type": "code",
   "execution_count": 190,
   "id": "15d232bf",
   "metadata": {},
   "outputs": [],
   "source": [
    "encoder = LabelEncoder()\n",
    "y_train = encoder.fit_transform(y_train)\n",
    "y_test = encoder.transform(y_test)"
   ]
  },
  {
   "cell_type": "code",
   "execution_count": 191,
   "id": "195f5a6a",
   "metadata": {},
   "outputs": [
    {
     "data": {
      "text/html": [
       "<div>\n",
       "<style scoped>\n",
       "    .dataframe tbody tr th:only-of-type {\n",
       "        vertical-align: middle;\n",
       "    }\n",
       "\n",
       "    .dataframe tbody tr th {\n",
       "        vertical-align: top;\n",
       "    }\n",
       "\n",
       "    .dataframe thead th {\n",
       "        text-align: right;\n",
       "    }\n",
       "</style>\n",
       "<table border=\"1\" class=\"dataframe\">\n",
       "  <thead>\n",
       "    <tr style=\"text-align: right;\">\n",
       "      <th></th>\n",
       "      <th>0</th>\n",
       "      <th>1</th>\n",
       "      <th>2</th>\n",
       "      <th>3</th>\n",
       "      <th>4</th>\n",
       "      <th>5</th>\n",
       "      <th>6</th>\n",
       "      <th>7</th>\n",
       "      <th>8</th>\n",
       "      <th>9</th>\n",
       "      <th>10</th>\n",
       "    </tr>\n",
       "  </thead>\n",
       "  <tbody>\n",
       "    <tr>\n",
       "      <th>0</th>\n",
       "      <td>0.0</td>\n",
       "      <td>1.0</td>\n",
       "      <td>0.901001</td>\n",
       "      <td>1.021824</td>\n",
       "      <td>1.245263</td>\n",
       "      <td>0.584357</td>\n",
       "      <td>-0.886505</td>\n",
       "      <td>1.658044</td>\n",
       "      <td>0.755594</td>\n",
       "      <td>0.293732</td>\n",
       "      <td>1.013838</td>\n",
       "    </tr>\n",
       "    <tr>\n",
       "      <th>1</th>\n",
       "      <td>1.0</td>\n",
       "      <td>1.0</td>\n",
       "      <td>-0.819845</td>\n",
       "      <td>1.354609</td>\n",
       "      <td>1.118084</td>\n",
       "      <td>0.889940</td>\n",
       "      <td>0.337439</td>\n",
       "      <td>2.211308</td>\n",
       "      <td>0.977171</td>\n",
       "      <td>1.426601</td>\n",
       "      <td>0.779608</td>\n",
       "    </tr>\n",
       "    <tr>\n",
       "      <th>2</th>\n",
       "      <td>0.0</td>\n",
       "      <td>0.0</td>\n",
       "      <td>-1.556753</td>\n",
       "      <td>-0.239159</td>\n",
       "      <td>-0.531973</td>\n",
       "      <td>-1.222709</td>\n",
       "      <td>0.427370</td>\n",
       "      <td>-0.561635</td>\n",
       "      <td>0.590766</td>\n",
       "      <td>-0.379555</td>\n",
       "      <td>0.171312</td>\n",
       "    </tr>\n",
       "    <tr>\n",
       "      <th>3</th>\n",
       "      <td>1.0</td>\n",
       "      <td>1.0</td>\n",
       "      <td>-0.819845</td>\n",
       "      <td>-0.386481</td>\n",
       "      <td>-0.406927</td>\n",
       "      <td>-1.222709</td>\n",
       "      <td>-0.880392</td>\n",
       "      <td>-1.211538</td>\n",
       "      <td>-0.441355</td>\n",
       "      <td>0.085871</td>\n",
       "      <td>-0.375976</td>\n",
       "    </tr>\n",
       "    <tr>\n",
       "      <th>4</th>\n",
       "      <td>1.0</td>\n",
       "      <td>1.0</td>\n",
       "      <td>-0.819845</td>\n",
       "      <td>-0.423933</td>\n",
       "      <td>-0.002905</td>\n",
       "      <td>-0.069278</td>\n",
       "      <td>-0.276743</td>\n",
       "      <td>0.506518</td>\n",
       "      <td>-0.303526</td>\n",
       "      <td>-0.567402</td>\n",
       "      <td>-0.072257</td>\n",
       "    </tr>\n",
       "    <tr>\n",
       "      <th>...</th>\n",
       "      <td>...</td>\n",
       "      <td>...</td>\n",
       "      <td>...</td>\n",
       "      <td>...</td>\n",
       "      <td>...</td>\n",
       "      <td>...</td>\n",
       "      <td>...</td>\n",
       "      <td>...</td>\n",
       "      <td>...</td>\n",
       "      <td>...</td>\n",
       "      <td>...</td>\n",
       "    </tr>\n",
       "    <tr>\n",
       "      <th>2919</th>\n",
       "      <td>0.0</td>\n",
       "      <td>1.0</td>\n",
       "      <td>-0.819845</td>\n",
       "      <td>0.708895</td>\n",
       "      <td>0.845514</td>\n",
       "      <td>0.889940</td>\n",
       "      <td>0.438579</td>\n",
       "      <td>1.589162</td>\n",
       "      <td>-1.805447</td>\n",
       "      <td>0.755693</td>\n",
       "      <td>1.191348</td>\n",
       "    </tr>\n",
       "    <tr>\n",
       "      <th>2920</th>\n",
       "      <td>1.0</td>\n",
       "      <td>1.0</td>\n",
       "      <td>0.375679</td>\n",
       "      <td>-0.423933</td>\n",
       "      <td>-0.609562</td>\n",
       "      <td>-0.424085</td>\n",
       "      <td>1.082780</td>\n",
       "      <td>-0.211264</td>\n",
       "      <td>0.520043</td>\n",
       "      <td>-0.453325</td>\n",
       "      <td>0.257585</td>\n",
       "    </tr>\n",
       "    <tr>\n",
       "      <th>2921</th>\n",
       "      <td>0.0</td>\n",
       "      <td>0.0</td>\n",
       "      <td>-0.819845</td>\n",
       "      <td>-1.247326</td>\n",
       "      <td>-1.066333</td>\n",
       "      <td>-1.222709</td>\n",
       "      <td>-1.689699</td>\n",
       "      <td>-0.418113</td>\n",
       "      <td>-0.370392</td>\n",
       "      <td>-1.260948</td>\n",
       "      <td>-1.046446</td>\n",
       "    </tr>\n",
       "    <tr>\n",
       "      <th>2922</th>\n",
       "      <td>1.0</td>\n",
       "      <td>1.0</td>\n",
       "      <td>1.395308</td>\n",
       "      <td>-0.855926</td>\n",
       "      <td>-0.506554</td>\n",
       "      <td>0.889940</td>\n",
       "      <td>0.782675</td>\n",
       "      <td>-1.311991</td>\n",
       "      <td>-0.370392</td>\n",
       "      <td>-0.490874</td>\n",
       "      <td>-0.996841</td>\n",
       "    </tr>\n",
       "    <tr>\n",
       "      <th>2923</th>\n",
       "      <td>0.0</td>\n",
       "      <td>0.0</td>\n",
       "      <td>-0.819845</td>\n",
       "      <td>0.148473</td>\n",
       "      <td>-0.286600</td>\n",
       "      <td>-0.805039</td>\n",
       "      <td>0.578105</td>\n",
       "      <td>1.125396</td>\n",
       "      <td>0.802139</td>\n",
       "      <td>0.520874</td>\n",
       "      <td>-0.562977</td>\n",
       "    </tr>\n",
       "  </tbody>\n",
       "</table>\n",
       "<p>2924 rows × 11 columns</p>\n",
       "</div>"
      ],
      "text/plain": [
       "       0    1         2         3         4         5         6         7   \\\n",
       "0     0.0  1.0  0.901001  1.021824  1.245263  0.584357 -0.886505  1.658044   \n",
       "1     1.0  1.0 -0.819845  1.354609  1.118084  0.889940  0.337439  2.211308   \n",
       "2     0.0  0.0 -1.556753 -0.239159 -0.531973 -1.222709  0.427370 -0.561635   \n",
       "3     1.0  1.0 -0.819845 -0.386481 -0.406927 -1.222709 -0.880392 -1.211538   \n",
       "4     1.0  1.0 -0.819845 -0.423933 -0.002905 -0.069278 -0.276743  0.506518   \n",
       "...   ...  ...       ...       ...       ...       ...       ...       ...   \n",
       "2919  0.0  1.0 -0.819845  0.708895  0.845514  0.889940  0.438579  1.589162   \n",
       "2920  1.0  1.0  0.375679 -0.423933 -0.609562 -0.424085  1.082780 -0.211264   \n",
       "2921  0.0  0.0 -0.819845 -1.247326 -1.066333 -1.222709 -1.689699 -0.418113   \n",
       "2922  1.0  1.0  1.395308 -0.855926 -0.506554  0.889940  0.782675 -1.311991   \n",
       "2923  0.0  0.0 -0.819845  0.148473 -0.286600 -0.805039  0.578105  1.125396   \n",
       "\n",
       "            8         9         10  \n",
       "0     0.755594  0.293732  1.013838  \n",
       "1     0.977171  1.426601  0.779608  \n",
       "2     0.590766 -0.379555  0.171312  \n",
       "3    -0.441355  0.085871 -0.375976  \n",
       "4    -0.303526 -0.567402 -0.072257  \n",
       "...        ...       ...       ...  \n",
       "2919 -1.805447  0.755693  1.191348  \n",
       "2920  0.520043 -0.453325  0.257585  \n",
       "2921 -0.370392 -1.260948 -1.046446  \n",
       "2922 -0.370392 -0.490874 -0.996841  \n",
       "2923  0.802139  0.520874 -0.562977  \n",
       "\n",
       "[2924 rows x 11 columns]"
      ]
     },
     "execution_count": 191,
     "metadata": {},
     "output_type": "execute_result"
    }
   ],
   "source": [
    "pd.DataFrame(X_train)"
   ]
  },
  {
   "cell_type": "code",
   "execution_count": 192,
   "id": "144bb974",
   "metadata": {},
   "outputs": [
    {
     "data": {
      "text/html": [
       "<div>\n",
       "<style scoped>\n",
       "    .dataframe tbody tr th:only-of-type {\n",
       "        vertical-align: middle;\n",
       "    }\n",
       "\n",
       "    .dataframe tbody tr th {\n",
       "        vertical-align: top;\n",
       "    }\n",
       "\n",
       "    .dataframe thead th {\n",
       "        text-align: right;\n",
       "    }\n",
       "</style>\n",
       "<table border=\"1\" class=\"dataframe\">\n",
       "  <thead>\n",
       "    <tr style=\"text-align: right;\">\n",
       "      <th></th>\n",
       "      <th>0</th>\n",
       "      <th>1</th>\n",
       "      <th>2</th>\n",
       "      <th>3</th>\n",
       "      <th>4</th>\n",
       "      <th>5</th>\n",
       "      <th>6</th>\n",
       "      <th>7</th>\n",
       "      <th>8</th>\n",
       "      <th>9</th>\n",
       "      <th>10</th>\n",
       "    </tr>\n",
       "  </thead>\n",
       "  <tbody>\n",
       "    <tr>\n",
       "      <th>0</th>\n",
       "      <td>1.0</td>\n",
       "      <td>0.0</td>\n",
       "      <td>-0.819845</td>\n",
       "      <td>0.317584</td>\n",
       "      <td>0.362161</td>\n",
       "      <td>-1.222709</td>\n",
       "      <td>-0.488950</td>\n",
       "      <td>-0.400520</td>\n",
       "      <td>0.707783</td>\n",
       "      <td>0.764853</td>\n",
       "      <td>-0.448936</td>\n",
       "    </tr>\n",
       "    <tr>\n",
       "      <th>1</th>\n",
       "      <td>1.0</td>\n",
       "      <td>1.0</td>\n",
       "      <td>0.901001</td>\n",
       "      <td>0.548143</td>\n",
       "      <td>0.480449</td>\n",
       "      <td>0.889940</td>\n",
       "      <td>-1.683136</td>\n",
       "      <td>1.630531</td>\n",
       "      <td>0.036124</td>\n",
       "      <td>0.021351</td>\n",
       "      <td>1.036475</td>\n",
       "    </tr>\n",
       "    <tr>\n",
       "      <th>2</th>\n",
       "      <td>1.0</td>\n",
       "      <td>0.0</td>\n",
       "      <td>0.375679</td>\n",
       "      <td>1.502403</td>\n",
       "      <td>0.671086</td>\n",
       "      <td>0.584357</td>\n",
       "      <td>-1.322128</td>\n",
       "      <td>-0.769157</td>\n",
       "      <td>0.641905</td>\n",
       "      <td>1.161150</td>\n",
       "      <td>1.058979</td>\n",
       "    </tr>\n",
       "    <tr>\n",
       "      <th>3</th>\n",
       "      <td>0.0</td>\n",
       "      <td>0.0</td>\n",
       "      <td>0.901001</td>\n",
       "      <td>0.740684</td>\n",
       "      <td>1.143750</td>\n",
       "      <td>1.469004</td>\n",
       "      <td>0.007410</td>\n",
       "      <td>1.930375</td>\n",
       "      <td>1.542107</td>\n",
       "      <td>1.295394</td>\n",
       "      <td>1.423307</td>\n",
       "    </tr>\n",
       "    <tr>\n",
       "      <th>4</th>\n",
       "      <td>0.0</td>\n",
       "      <td>1.0</td>\n",
       "      <td>1.395308</td>\n",
       "      <td>0.417230</td>\n",
       "      <td>-0.204865</td>\n",
       "      <td>-1.698827</td>\n",
       "      <td>0.190297</td>\n",
       "      <td>-0.730342</td>\n",
       "      <td>-2.537976</td>\n",
       "      <td>0.559235</td>\n",
       "      <td>-0.040615</td>\n",
       "    </tr>\n",
       "    <tr>\n",
       "      <th>...</th>\n",
       "      <td>...</td>\n",
       "      <td>...</td>\n",
       "      <td>...</td>\n",
       "      <td>...</td>\n",
       "      <td>...</td>\n",
       "      <td>...</td>\n",
       "      <td>...</td>\n",
       "      <td>...</td>\n",
       "      <td>...</td>\n",
       "      <td>...</td>\n",
       "      <td>...</td>\n",
       "    </tr>\n",
       "    <tr>\n",
       "      <th>1249</th>\n",
       "      <td>0.0</td>\n",
       "      <td>1.0</td>\n",
       "      <td>0.375679</td>\n",
       "      <td>0.803918</td>\n",
       "      <td>0.671086</td>\n",
       "      <td>-0.069278</td>\n",
       "      <td>-0.218329</td>\n",
       "      <td>-1.311991</td>\n",
       "      <td>1.510306</td>\n",
       "      <td>1.270462</td>\n",
       "      <td>1.524655</td>\n",
       "    </tr>\n",
       "    <tr>\n",
       "      <th>1250</th>\n",
       "      <td>1.0</td>\n",
       "      <td>0.0</td>\n",
       "      <td>0.375679</td>\n",
       "      <td>-0.239159</td>\n",
       "      <td>-0.622697</td>\n",
       "      <td>-1.698827</td>\n",
       "      <td>1.314318</td>\n",
       "      <td>0.820632</td>\n",
       "      <td>-2.537976</td>\n",
       "      <td>0.263211</td>\n",
       "      <td>-0.305207</td>\n",
       "    </tr>\n",
       "    <tr>\n",
       "      <th>1251</th>\n",
       "      <td>1.0</td>\n",
       "      <td>1.0</td>\n",
       "      <td>-0.191356</td>\n",
       "      <td>0.803918</td>\n",
       "      <td>0.809292</td>\n",
       "      <td>0.265541</td>\n",
       "      <td>0.252704</td>\n",
       "      <td>-1.311991</td>\n",
       "      <td>1.308831</td>\n",
       "      <td>0.096522</td>\n",
       "      <td>-0.169510</td>\n",
       "    </tr>\n",
       "    <tr>\n",
       "      <th>1252</th>\n",
       "      <td>1.0</td>\n",
       "      <td>1.0</td>\n",
       "      <td>1.395308</td>\n",
       "      <td>1.324802</td>\n",
       "      <td>1.066393</td>\n",
       "      <td>1.184311</td>\n",
       "      <td>1.362454</td>\n",
       "      <td>1.422433</td>\n",
       "      <td>0.348589</td>\n",
       "      <td>0.635026</td>\n",
       "      <td>0.991066</td>\n",
       "    </tr>\n",
       "    <tr>\n",
       "      <th>1253</th>\n",
       "      <td>0.0</td>\n",
       "      <td>0.0</td>\n",
       "      <td>-0.819845</td>\n",
       "      <td>-1.156324</td>\n",
       "      <td>-0.899678</td>\n",
       "      <td>-0.805039</td>\n",
       "      <td>-0.323638</td>\n",
       "      <td>-0.730342</td>\n",
       "      <td>-0.067512</td>\n",
       "      <td>-1.126875</td>\n",
       "      <td>-1.321078</td>\n",
       "    </tr>\n",
       "  </tbody>\n",
       "</table>\n",
       "<p>1254 rows × 11 columns</p>\n",
       "</div>"
      ],
      "text/plain": [
       "       0    1         2         3         4         5         6         7   \\\n",
       "0     1.0  0.0 -0.819845  0.317584  0.362161 -1.222709 -0.488950 -0.400520   \n",
       "1     1.0  1.0  0.901001  0.548143  0.480449  0.889940 -1.683136  1.630531   \n",
       "2     1.0  0.0  0.375679  1.502403  0.671086  0.584357 -1.322128 -0.769157   \n",
       "3     0.0  0.0  0.901001  0.740684  1.143750  1.469004  0.007410  1.930375   \n",
       "4     0.0  1.0  1.395308  0.417230 -0.204865 -1.698827  0.190297 -0.730342   \n",
       "...   ...  ...       ...       ...       ...       ...       ...       ...   \n",
       "1249  0.0  1.0  0.375679  0.803918  0.671086 -0.069278 -0.218329 -1.311991   \n",
       "1250  1.0  0.0  0.375679 -0.239159 -0.622697 -1.698827  1.314318  0.820632   \n",
       "1251  1.0  1.0 -0.191356  0.803918  0.809292  0.265541  0.252704 -1.311991   \n",
       "1252  1.0  1.0  1.395308  1.324802  1.066393  1.184311  1.362454  1.422433   \n",
       "1253  0.0  0.0 -0.819845 -1.156324 -0.899678 -0.805039 -0.323638 -0.730342   \n",
       "\n",
       "            8         9         10  \n",
       "0     0.707783  0.764853 -0.448936  \n",
       "1     0.036124  0.021351  1.036475  \n",
       "2     0.641905  1.161150  1.058979  \n",
       "3     1.542107  1.295394  1.423307  \n",
       "4    -2.537976  0.559235 -0.040615  \n",
       "...        ...       ...       ...  \n",
       "1249  1.510306  1.270462  1.524655  \n",
       "1250 -2.537976  0.263211 -0.305207  \n",
       "1251  1.308831  0.096522 -0.169510  \n",
       "1252  0.348589  0.635026  0.991066  \n",
       "1253 -0.067512 -1.126875 -1.321078  \n",
       "\n",
       "[1254 rows x 11 columns]"
      ]
     },
     "execution_count": 192,
     "metadata": {},
     "output_type": "execute_result"
    }
   ],
   "source": [
    "pd.DataFrame(X_test)"
   ]
  },
  {
   "cell_type": "code",
   "execution_count": 193,
   "id": "c02a5574",
   "metadata": {},
   "outputs": [
    {
     "data": {
      "text/html": [
       "<div>\n",
       "<style scoped>\n",
       "    .dataframe tbody tr th:only-of-type {\n",
       "        vertical-align: middle;\n",
       "    }\n",
       "\n",
       "    .dataframe tbody tr th {\n",
       "        vertical-align: top;\n",
       "    }\n",
       "\n",
       "    .dataframe thead th {\n",
       "        text-align: right;\n",
       "    }\n",
       "</style>\n",
       "<table border=\"1\" class=\"dataframe\">\n",
       "  <thead>\n",
       "    <tr style=\"text-align: right;\">\n",
       "      <th></th>\n",
       "      <th>0</th>\n",
       "    </tr>\n",
       "  </thead>\n",
       "  <tbody>\n",
       "    <tr>\n",
       "      <th>0</th>\n",
       "      <td>1</td>\n",
       "    </tr>\n",
       "    <tr>\n",
       "      <th>1</th>\n",
       "      <td>0</td>\n",
       "    </tr>\n",
       "    <tr>\n",
       "      <th>2</th>\n",
       "      <td>0</td>\n",
       "    </tr>\n",
       "    <tr>\n",
       "      <th>3</th>\n",
       "      <td>1</td>\n",
       "    </tr>\n",
       "    <tr>\n",
       "      <th>4</th>\n",
       "      <td>1</td>\n",
       "    </tr>\n",
       "    <tr>\n",
       "      <th>...</th>\n",
       "      <td>...</td>\n",
       "    </tr>\n",
       "    <tr>\n",
       "      <th>2919</th>\n",
       "      <td>0</td>\n",
       "    </tr>\n",
       "    <tr>\n",
       "      <th>2920</th>\n",
       "      <td>0</td>\n",
       "    </tr>\n",
       "    <tr>\n",
       "      <th>2921</th>\n",
       "      <td>0</td>\n",
       "    </tr>\n",
       "    <tr>\n",
       "      <th>2922</th>\n",
       "      <td>0</td>\n",
       "    </tr>\n",
       "    <tr>\n",
       "      <th>2923</th>\n",
       "      <td>0</td>\n",
       "    </tr>\n",
       "  </tbody>\n",
       "</table>\n",
       "<p>2924 rows × 1 columns</p>\n",
       "</div>"
      ],
      "text/plain": [
       "      0\n",
       "0     1\n",
       "1     0\n",
       "2     0\n",
       "3     1\n",
       "4     1\n",
       "...  ..\n",
       "2919  0\n",
       "2920  0\n",
       "2921  0\n",
       "2922  0\n",
       "2923  0\n",
       "\n",
       "[2924 rows x 1 columns]"
      ]
     },
     "execution_count": 193,
     "metadata": {},
     "output_type": "execute_result"
    }
   ],
   "source": [
    "pd.DataFrame(y_train)"
   ]
  },
  {
   "cell_type": "code",
   "execution_count": 194,
   "id": "7eb415fc",
   "metadata": {},
   "outputs": [
    {
     "data": {
      "text/html": [
       "<div>\n",
       "<style scoped>\n",
       "    .dataframe tbody tr th:only-of-type {\n",
       "        vertical-align: middle;\n",
       "    }\n",
       "\n",
       "    .dataframe tbody tr th {\n",
       "        vertical-align: top;\n",
       "    }\n",
       "\n",
       "    .dataframe thead th {\n",
       "        text-align: right;\n",
       "    }\n",
       "</style>\n",
       "<table border=\"1\" class=\"dataframe\">\n",
       "  <thead>\n",
       "    <tr style=\"text-align: right;\">\n",
       "      <th></th>\n",
       "      <th>0</th>\n",
       "    </tr>\n",
       "  </thead>\n",
       "  <tbody>\n",
       "    <tr>\n",
       "      <th>0</th>\n",
       "      <td>0</td>\n",
       "    </tr>\n",
       "    <tr>\n",
       "      <th>1</th>\n",
       "      <td>1</td>\n",
       "    </tr>\n",
       "    <tr>\n",
       "      <th>2</th>\n",
       "      <td>1</td>\n",
       "    </tr>\n",
       "    <tr>\n",
       "      <th>3</th>\n",
       "      <td>0</td>\n",
       "    </tr>\n",
       "    <tr>\n",
       "      <th>4</th>\n",
       "      <td>0</td>\n",
       "    </tr>\n",
       "    <tr>\n",
       "      <th>...</th>\n",
       "      <td>...</td>\n",
       "    </tr>\n",
       "    <tr>\n",
       "      <th>1249</th>\n",
       "      <td>0</td>\n",
       "    </tr>\n",
       "    <tr>\n",
       "      <th>1250</th>\n",
       "      <td>0</td>\n",
       "    </tr>\n",
       "    <tr>\n",
       "      <th>1251</th>\n",
       "      <td>0</td>\n",
       "    </tr>\n",
       "    <tr>\n",
       "      <th>1252</th>\n",
       "      <td>0</td>\n",
       "    </tr>\n",
       "    <tr>\n",
       "      <th>1253</th>\n",
       "      <td>1</td>\n",
       "    </tr>\n",
       "  </tbody>\n",
       "</table>\n",
       "<p>1254 rows × 1 columns</p>\n",
       "</div>"
      ],
      "text/plain": [
       "      0\n",
       "0     0\n",
       "1     1\n",
       "2     1\n",
       "3     0\n",
       "4     0\n",
       "...  ..\n",
       "1249  0\n",
       "1250  0\n",
       "1251  0\n",
       "1252  0\n",
       "1253  1\n",
       "\n",
       "[1254 rows x 1 columns]"
      ]
     },
     "execution_count": 194,
     "metadata": {},
     "output_type": "execute_result"
    }
   ],
   "source": [
    "pd.DataFrame(y_test)"
   ]
  },
  {
   "cell_type": "markdown",
   "id": "a75765c1",
   "metadata": {},
   "source": [
    "#### `Imbalanced Target`"
   ]
  },
  {
   "cell_type": "code",
   "execution_count": 195,
   "id": "019a85db",
   "metadata": {},
   "outputs": [
    {
     "data": {
      "text/plain": [
       "{0: np.float64(0.3775649794801642), 1: np.float64(0.6224350205198359)}"
      ]
     },
     "execution_count": 195,
     "metadata": {},
     "output_type": "execute_result"
    }
   ],
   "source": [
    "## 1. Class weights\n",
    "vals_count = 1 - (np.bincount(y_train) / len(y_train))\n",
    "\n",
    "vals_count = vals_count / np.sum(vals_count)  ## Normalizing\n",
    "\n",
    "dict_weights = {}\n",
    "for i in range(2): ## 2 classes (0, 1)\n",
    "    dict_weights[i] = vals_count[i]\n",
    "dict_weights"
   ]
  },
  {
   "cell_type": "code",
   "execution_count": 196,
   "id": "1839272f",
   "metadata": {},
   "outputs": [],
   "source": [
    "## 2. SMOTE\n",
    "over = SMOTE(sampling_strategy=0.7)\n",
    "X_train_resampled, y_train_resampled = over.fit_resample(X_train, y_train)  ## for train"
   ]
  },
  {
   "cell_type": "markdown",
   "id": "ec4a5a4f",
   "metadata": {},
   "source": [
    "# Buliding Models"
   ]
  },
  {
   "cell_type": "markdown",
   "id": "8f7c65c8",
   "metadata": {},
   "source": [
    "`1. Without taking into consideration the imbalancing of dataset`"
   ]
  },
  {
   "cell_type": "markdown",
   "id": "8b607cbf",
   "metadata": {},
   "source": [
    "#### 1. RF"
   ]
  },
  {
   "cell_type": "code",
   "execution_count": 197,
   "id": "eae5e800",
   "metadata": {},
   "outputs": [
    {
     "name": "stdout",
     "output_type": "stream",
     "text": [
      "F1 Score for Training Dataset using RF 96.860\n",
      "F1 Score for Testing Dataset using RF 95.189\n"
     ]
    }
   ],
   "source": [
    "forst_clf = RandomForestClassifier(n_estimators=150, max_depth=5, random_state=45)\n",
    "forst_clf.fit(X_train, y_train)\n",
    "\n",
    "## Predict \n",
    "y_pred_train_forest = forst_clf.predict(X_train)\n",
    "y_pred_test_forest = forst_clf.predict(X_test)\n",
    "\n",
    "## Evaluate\n",
    "score_train_forest = f1_score(y_train, y_pred_train_forest)\n",
    "score_test_forest = f1_score(y_test, y_pred_test_forest)\n",
    "\n",
    "print(f'F1 Score for Training Dataset using RF {score_train_forest * 100 :.3f}')\n",
    "print(f'F1 Score for Testing Dataset using RF {score_test_forest * 100 :.3f}')"
   ]
  },
  {
   "cell_type": "code",
   "execution_count": 198,
   "id": "ade0fb56",
   "metadata": {},
   "outputs": [
    {
     "data": {
      "text/plain": [
       "(0.9464131374243734, 0.9918478260869565, 0.9685979655019903)"
      ]
     },
     "execution_count": 198,
     "metadata": {},
     "output_type": "execute_result"
    }
   ],
   "source": [
    "precision_score(y_train, y_pred_train_forest), recall_score(y_train, y_pred_train_forest), f1_score(y_train, y_pred_train_forest)"
   ]
  },
  {
   "cell_type": "markdown",
   "id": "ba58033f",
   "metadata": {},
   "source": [
    "2. SVM"
   ]
  },
  {
   "cell_type": "code",
   "execution_count": 199,
   "id": "09831026",
   "metadata": {},
   "outputs": [
    {
     "name": "stdout",
     "output_type": "stream",
     "text": [
      "F1 Score for Training Dataset using SVC 95.621\n",
      "F1 Score for Testing Dataset using SVC 92.437\n"
     ]
    }
   ],
   "source": [
    "svc_clf_svm = SVC(C=2, kernel='rbf', gamma=0.1,probability=True)\n",
    "svc_clf_svm.fit(X_train, y_train) \n",
    "\n",
    "## Predict\n",
    "y_pred_train_svm = svc_clf_svm.predict(X_train)\n",
    "y_pred_test_svm = svc_clf_svm.predict(X_test)\n",
    "\n",
    "## Evaluate using f1 score\n",
    "score_train_svm = f1_score(y_train, y_pred_train_svm)\n",
    "score_test_svm = f1_score(y_test, y_pred_test_svm)\n",
    "\n",
    "print(f'F1 Score for Training Dataset using SVC {score_train_svm * 100 :.3f}')\n",
    "print(f'F1 Score for Testing Dataset using SVC {score_test_svm * 100 :.3f}')"
   ]
  },
  {
   "cell_type": "code",
   "execution_count": 200,
   "id": "319b7b5e",
   "metadata": {},
   "outputs": [
    {
     "data": {
      "text/plain": [
       "(0.9531953195319532, 0.9592391304347826, 0.9562076749435666)"
      ]
     },
     "execution_count": 200,
     "metadata": {},
     "output_type": "execute_result"
    }
   ],
   "source": [
    "precision_score(y_train, y_pred_train_svm), recall_score(y_train, y_pred_train_svm), f1_score(y_train, y_pred_train_svm)"
   ]
  },
  {
   "cell_type": "markdown",
   "id": "5a59ea62",
   "metadata": {},
   "source": [
    "So the best model here is random forest"
   ]
  },
  {
   "cell_type": "markdown",
   "id": "e2c2344b",
   "metadata": {},
   "source": [
    "# Bonus"
   ]
  },
  {
   "cell_type": "markdown",
   "id": "b9165254",
   "metadata": {},
   "source": [
    "2. with take into consideration the imbalancing using (class_weights)"
   ]
  },
  {
   "cell_type": "code",
   "execution_count": 201,
   "id": "a9ac4260",
   "metadata": {},
   "outputs": [
    {
     "name": "stdout",
     "output_type": "stream",
     "text": [
      "F1 Score for Training Dataset using RF using class_weights 96.352\n",
      "F1 Score for Testing Dataset using RF using class_weights 94.630\n"
     ]
    }
   ],
   "source": [
    "forst_clf = RandomForestClassifier(n_estimators=150, max_depth=5, random_state=45, class_weight=dict_weights)\n",
    "forst_clf.fit(X_train, y_train)\n",
    "\n",
    "## Predict\n",
    "y_pred_train_forest = forst_clf.predict(X_train)\n",
    "y_pred_test_forest = forst_clf.predict(X_test)\n",
    "\n",
    "## Evaluate\n",
    "score_train_forest = f1_score(y_train, y_pred_train_forest)\n",
    "score_test_forest = f1_score(y_test, y_pred_test_forest)\n",
    "\n",
    "print(f'F1 Score for Training Dataset using RF using class_weights {score_train_forest * 100 :.3f}')\n",
    "print(f'F1 Score for Testing Dataset using RF using class_weights {score_test_forest * 100 :.3f}')"
   ]
  },
  {
   "cell_type": "code",
   "execution_count": 202,
   "id": "14fcf89d",
   "metadata": {},
   "outputs": [
    {
     "data": {
      "text/plain": [
       "(0.9359521776259607, 0.9927536231884058, 0.9635164835164836)"
      ]
     },
     "execution_count": 202,
     "metadata": {},
     "output_type": "execute_result"
    }
   ],
   "source": [
    "precision_score(y_train, y_pred_train_forest), recall_score(y_train, y_pred_train_forest), f1_score(y_train, y_pred_train_forest)"
   ]
  },
  {
   "cell_type": "code",
   "execution_count": 203,
   "id": "095dee70",
   "metadata": {},
   "outputs": [
    {
     "name": "stdout",
     "output_type": "stream",
     "text": [
      "F1 Score for Training Dataset using SVC with RBF kernel with class_weights 93.553\n",
      "F1 Score for Testing Dataset using SVC with RBF kernel with class_weights 90.669\n"
     ]
    }
   ],
   "source": [
    "svc_clf_rbf = SVC(C=2, kernel='rbf', gamma=0.1, class_weight=dict_weights, probability=True)\n",
    "svc_clf_rbf.fit(X_train, y_train)\n",
    "\n",
    "## Predict\n",
    "y_pred_train_rbf = svc_clf_rbf.predict(X_train)\n",
    "y_pred_test_rbf = svc_clf_rbf.predict(X_test)\n",
    "\n",
    "## Evaluate using f1 score\n",
    "score_train_rbf = f1_score(y_train, y_pred_train_rbf)\n",
    "score_test_rbf = f1_score(y_test, y_pred_test_rbf)\n",
    "\n",
    "print(f'F1 Score for Training Dataset using SVC with RBF kernel with class_weights {score_train_rbf * 100 :.3f}')\n",
    "print(f'F1 Score for Testing Dataset using SVC with RBF kernel with class_weights {score_test_rbf * 100 :.3f}')"
   ]
  },
  {
   "cell_type": "code",
   "execution_count": 204,
   "id": "e3fecaf3",
   "metadata": {},
   "outputs": [
    {
     "data": {
      "text/plain": [
       "(0.9531953195319532, 0.9592391304347826, 0.9562076749435666)"
      ]
     },
     "execution_count": 204,
     "metadata": {},
     "output_type": "execute_result"
    }
   ],
   "source": [
    "precision_score(y_train, y_pred_train_svm), recall_score(y_train, y_pred_train_svm), f1_score(y_train, y_pred_train_svm)"
   ]
  },
  {
   "cell_type": "markdown",
   "id": "1e6ea6e9",
   "metadata": {},
   "source": [
    "So the best model here is random forest with class weights"
   ]
  },
  {
   "cell_type": "markdown",
   "id": "147685b8",
   "metadata": {},
   "source": [
    "3. with take into consideration the imbalancing using (over sampled using SMOTE)"
   ]
  },
  {
   "cell_type": "code",
   "execution_count": 205,
   "id": "72f0511d",
   "metadata": {},
   "outputs": [
    {
     "name": "stdout",
     "output_type": "stream",
     "text": [
      "F1 Score for Training Dataset using RF after SMOTE 96.646\n",
      "F1 Score for Testing Dataset using RF after SMOTE 94.812\n"
     ]
    }
   ],
   "source": [
    "forst_clf = RandomForestClassifier(n_estimators=150, max_depth=5, random_state=45)\n",
    "forst_clf.fit(X_train_resampled, y_train_resampled)\n",
    "\n",
    "## Predict\n",
    "y_pred_train_forest = forst_clf.predict(X_train)\n",
    "y_pred_test_forest = forst_clf.predict(X_test)\n",
    "\n",
    "## Evaluate\n",
    "score_train_forest = f1_score(y_train, y_pred_train_forest)\n",
    "score_test_forest = f1_score(y_test, y_pred_test_forest)\n",
    "\n",
    "print(f'F1 Score for Training Dataset using RF after SMOTE {score_train_forest * 100 :.3f}')\n",
    "print(f'F1 Score for Testing Dataset using RF after SMOTE {score_test_forest * 100 :.3f}')"
   ]
  },
  {
   "cell_type": "code",
   "execution_count": 206,
   "id": "201d4093",
   "metadata": {},
   "outputs": [
    {
     "data": {
      "text/plain": [
       "(0.9423407917383821, 0.9918478260869565, 0.9664607237422771)"
      ]
     },
     "execution_count": 206,
     "metadata": {},
     "output_type": "execute_result"
    }
   ],
   "source": [
    "precision_score(y_train, y_pred_train_forest), recall_score(y_train, y_pred_train_forest), f1_score(y_train, y_pred_train_forest)"
   ]
  },
  {
   "cell_type": "code",
   "execution_count": 207,
   "id": "d1a42cf5",
   "metadata": {},
   "outputs": [
    {
     "name": "stdout",
     "output_type": "stream",
     "text": [
      "F1 Score for Training Dataset using SVC with RBF kernel after SMOTE 96.018\n",
      "F1 Score for Testing Dataset using SVC with RBF kernel with after SMOTE 92.356\n"
     ]
    }
   ],
   "source": [
    "svc_clf_rbf = SVC(C=2, kernel='rbf', gamma=0.1,probability=True)\n",
    "svc_clf_rbf.fit(X_train_resampled, y_train_resampled) \n",
    "\n",
    "## Predict\n",
    "y_pred_train_rbf = svc_clf_rbf.predict(X_train)\n",
    "y_pred_test_rbf = svc_clf_rbf.predict(X_test)\n",
    "\n",
    "## Evaluate using f1 score\n",
    "score_train_rbf = f1_score(y_train, y_pred_train_rbf)\n",
    "score_test_rbf = f1_score(y_test, y_pred_test_rbf)\n",
    "\n",
    "print(f'F1 Score for Training Dataset using SVC with RBF kernel after SMOTE {score_train_rbf * 100 :.3f}')\n",
    "print(f'F1 Score for Testing Dataset using SVC with RBF kernel with after SMOTE {score_test_rbf * 100 :.3f}')"
   ]
  },
  {
   "cell_type": "code",
   "execution_count": 208,
   "id": "cc7328d2",
   "metadata": {},
   "outputs": [
    {
     "data": {
      "text/plain": [
       "(0.9531953195319532, 0.9592391304347826, 0.9562076749435666)"
      ]
     },
     "execution_count": 208,
     "metadata": {},
     "output_type": "execute_result"
    }
   ],
   "source": [
    "precision_score(y_train, y_pred_train_svm), recall_score(y_train, y_pred_train_svm), f1_score(y_train, y_pred_train_svm)"
   ]
  },
  {
   "cell_type": "markdown",
   "id": "2598df98",
   "metadata": {},
   "source": [
    "So the best model here is random forest with smote"
   ]
  },
  {
   "cell_type": "markdown",
   "id": "63de5e28",
   "metadata": {},
   "source": [
    "Logistic Regression"
   ]
  },
  {
   "cell_type": "code",
   "execution_count": 209,
   "id": "18d97071",
   "metadata": {},
   "outputs": [
    {
     "name": "stdout",
     "output_type": "stream",
     "text": [
      "F1 Score for Training Dataset using Logisitic 89.315\n",
      "F1 Score for Testing Dataset using Logisitic 88.627\n"
     ]
    }
   ],
   "source": [
    "## Using Logistic Reg Without taking into cosideration class_weights\n",
    "log_clf = LogisticRegression(penalty=None,max_iter=10000, multi_class='auto')\n",
    "log_clf.fit(X_train, y_train) \n",
    "\n",
    "## Predict\n",
    "y_pred_train_log = log_clf.predict(X_train)\n",
    "y_pred_test_log = log_clf.predict(X_test)\n",
    "\n",
    "## Evaluate\n",
    "score_train_log = f1_score(y_train, y_pred_train_log)\n",
    "score_test_log = f1_score(y_test, y_pred_test_log)\n",
    "\n",
    "print(f'F1 Score for Training Dataset using Logisitic {score_train_log * 100 :.3f}')\n",
    "print(f'F1 Score for Testing Dataset using Logisitic {score_test_log * 100 :.3f}')"
   ]
  },
  {
   "cell_type": "code",
   "execution_count": 210,
   "id": "d8f3148b",
   "metadata": {},
   "outputs": [
    {
     "data": {
      "text/plain": [
       "(0.9005524861878453, 0.8858695652173914, 0.8931506849315068)"
      ]
     },
     "execution_count": 210,
     "metadata": {},
     "output_type": "execute_result"
    }
   ],
   "source": [
    "precision_score(y_train, y_pred_train_log), recall_score(y_train, y_pred_train_log), f1_score(y_train, y_pred_train_log)"
   ]
  },
  {
   "cell_type": "code",
   "execution_count": 211,
   "id": "1313dc33",
   "metadata": {},
   "outputs": [
    {
     "name": "stdout",
     "output_type": "stream",
     "text": [
      "F1 Score for Training Dataset using Logisitic with class_weights 90.609\n",
      "F1 Score for Testing Dataset using Logisitic after class_weights 89.592\n"
     ]
    }
   ],
   "source": [
    "## Using Logistic Reg taking into cosideration class_weights\n",
    "log_clf = LogisticRegression(penalty=None, class_weight=dict_weights,max_iter=10000, multi_class='auto')\n",
    "log_clf.fit(X_train, y_train)\n",
    "\n",
    "## Predict\n",
    "y_pred_train_log = log_clf.predict(X_train)\n",
    "y_pred_test_log = log_clf.predict(X_test)\n",
    "\n",
    "## Evaluate\n",
    "score_train_log = f1_score(y_train, y_pred_train_log)\n",
    "score_test_log = f1_score(y_test, y_pred_test_log)\n",
    "\n",
    "print(f'F1 Score for Training Dataset using Logisitic with class_weights {score_train_log * 100 :.3f}')\n",
    "print(f'F1 Score for Testing Dataset using Logisitic after class_weights {score_test_log * 100 :.3f}')"
   ]
  },
  {
   "cell_type": "code",
   "execution_count": 212,
   "id": "b4c33a1e",
   "metadata": {},
   "outputs": [
    {
     "data": {
      "text/plain": [
       "(0.8712374581939799, 0.9438405797101449, 0.9060869565217391)"
      ]
     },
     "execution_count": 212,
     "metadata": {},
     "output_type": "execute_result"
    }
   ],
   "source": [
    "precision_score(y_train, y_pred_train_log), recall_score(y_train, y_pred_train_log), f1_score(y_train, y_pred_train_log)"
   ]
  },
  {
   "cell_type": "code",
   "execution_count": 213,
   "id": "f2715643",
   "metadata": {},
   "outputs": [
    {
     "name": "stdout",
     "output_type": "stream",
     "text": [
      "F1 Score for Training Dataset using Logisitic with SMOTE 89.761\n",
      "F1 Score for Testing Dataset using Logisitic after SMOTE 89.195\n"
     ]
    }
   ],
   "source": [
    "## Using Logistic Reg taking into cosideration SMOTE\n",
    "log_clf = LogisticRegression(penalty=None, max_iter=10000, multi_class='auto')\n",
    "log_clf.fit(X_train_resampled, y_train_resampled)  ## USING Smote\n",
    "\n",
    "## Predict\n",
    "y_pred_train_log = log_clf.predict(X_train)\n",
    "y_pred_test_log = log_clf.predict(X_test)\n",
    "\n",
    "## Evaluate\n",
    "score_train_log = f1_score(y_train, y_pred_train_log)\n",
    "score_test_log = f1_score(y_test, y_pred_test_log)\n",
    "\n",
    "print(f'F1 Score for Training Dataset using Logisitic with SMOTE {score_train_log * 100 :.3f}')\n",
    "print(f'F1 Score for Testing Dataset using Logisitic after SMOTE {score_test_log * 100 :.3f}')"
   ]
  },
  {
   "cell_type": "code",
   "execution_count": 214,
   "id": "bb430d30",
   "metadata": {},
   "outputs": [
    {
     "data": {
      "text/plain": [
       "(0.8939802336028752, 0.9012681159420289, 0.8976093820478124)"
      ]
     },
     "execution_count": 214,
     "metadata": {},
     "output_type": "execute_result"
    }
   ],
   "source": [
    "precision_score(y_train, y_pred_train_log), recall_score(y_train, y_pred_train_log), f1_score(y_train, y_pred_train_log)"
   ]
  },
  {
   "cell_type": "markdown",
   "id": "c753efd5",
   "metadata": {},
   "source": [
    "* Decision Trees"
   ]
  },
  {
   "cell_type": "code",
   "execution_count": 215,
   "id": "15ad9c13",
   "metadata": {},
   "outputs": [
    {
     "name": "stdout",
     "output_type": "stream",
     "text": [
      "F1 Score for Training Dataset using Decision Trees 96.594\n",
      "F1 Score for Testing Dataset using Decision Trees 95.885\n"
     ]
    }
   ],
   "source": [
    "## Using DT Without taking into cosideration class_weights\n",
    "tree_clf = DecisionTreeClassifier(criterion='entropy', max_depth=5, splitter='best', max_leaf_nodes=10)\n",
    "tree_clf.fit(X_train, y_train)\n",
    "\n",
    "# Predict\n",
    "y_pred_train_tree = tree_clf.predict(X_train)\n",
    "y_pred_test_tree = tree_clf.predict(X_test)\n",
    "\n",
    "## Evaluate\n",
    "score_train_tree = f1_score(y_train, y_pred_train_tree)\n",
    "score_test_tree = f1_score(y_test, y_pred_test_tree)\n",
    "\n",
    "print(f'F1 Score for Training Dataset using Decision Trees {score_train_tree * 100 :.3f}')\n",
    "print(f'F1 Score for Testing Dataset using Decision Trees {score_test_tree * 100 :.3f}')"
   ]
  },
  {
   "cell_type": "code",
   "execution_count": 216,
   "id": "5e34cc2c",
   "metadata": {},
   "outputs": [
    {
     "data": {
      "text/plain": [
       "(0.9438202247191011, 0.9891304347826086, 0.9659442724458205)"
      ]
     },
     "execution_count": 216,
     "metadata": {},
     "output_type": "execute_result"
    }
   ],
   "source": [
    "precision_score(y_train, y_pred_train_tree), recall_score(y_train, y_pred_train_tree), f1_score(y_train, y_pred_train_tree)"
   ]
  },
  {
   "cell_type": "code",
   "execution_count": 217,
   "id": "aa0e4db1",
   "metadata": {},
   "outputs": [
    {
     "name": "stdout",
     "output_type": "stream",
     "text": [
      "F1 Score for Training Dataset using Decision Trees with class_weights 96.515\n",
      "F1 Score for Testing Dataset using Decision Trees after class_weights 95.688\n"
     ]
    }
   ],
   "source": [
    "## Using DT taking into cosideration class_weights\n",
    "tree_clf = DecisionTreeClassifier(criterion='entropy', max_depth=5, splitter='best', max_leaf_nodes=10,class_weight=dict_weights)\n",
    "tree_clf.fit(X_train, y_train)\n",
    "\n",
    "# Predict\n",
    "y_pred_train_tree = tree_clf.predict(X_train)\n",
    "y_pred_test_tree = tree_clf.predict(X_test)\n",
    "\n",
    "## Evaluate\n",
    "score_train_tree = f1_score(y_train, y_pred_train_tree)\n",
    "score_test_tree = f1_score(y_test, y_pred_test_tree)\n",
    "\n",
    "print(f'F1 Score for Training Dataset using Decision Trees with class_weights {score_train_tree * 100 :.3f}')\n",
    "print(f'F1 Score for Testing Dataset using Decision Trees after class_weights {score_test_tree * 100 :.3f}')"
   ]
  },
  {
   "cell_type": "code",
   "execution_count": 218,
   "id": "996c8778",
   "metadata": {},
   "outputs": [
    {
     "data": {
      "text/plain": [
       "(0.94067067927773, 0.9909420289855072, 0.9651521835024262)"
      ]
     },
     "execution_count": 218,
     "metadata": {},
     "output_type": "execute_result"
    }
   ],
   "source": [
    "precision_score(y_train, y_pred_train_tree), recall_score(y_train, y_pred_train_tree), f1_score(y_train, y_pred_train_tree)"
   ]
  },
  {
   "cell_type": "code",
   "execution_count": 219,
   "id": "34077af1",
   "metadata": {},
   "outputs": [
    {
     "name": "stdout",
     "output_type": "stream",
     "text": [
      "F1 Score for Training Dataset using Decision Trees with SMOTE 96.594\n",
      "F1 Score for Testing Dataset using Decision Trees with SMOTE 95.885\n"
     ]
    }
   ],
   "source": [
    "## DT using SMOTE\n",
    "tree_clf = DecisionTreeClassifier(criterion='entropy', max_depth=5, splitter='best', max_leaf_nodes=10)\n",
    "tree_clf.fit(X_train_resampled, y_train_resampled)  ## using SMOTE\n",
    "\n",
    "# Predict and evaluate \n",
    "y_pred_train_tree = tree_clf.predict(X_train)\n",
    "y_pred_test_tree = tree_clf.predict(X_test)\n",
    "\n",
    "## Evaluate\n",
    "score_train_tree = f1_score(y_train, y_pred_train_tree)\n",
    "score_test_tree = f1_score(y_test, y_pred_test_tree)\n",
    "\n",
    "print(f'F1 Score for Training Dataset using Decision Trees with SMOTE {score_train_tree * 100 :.3f}')\n",
    "print(f'F1 Score for Testing Dataset using Decision Trees with SMOTE {score_test_tree * 100 :.3f}')"
   ]
  },
  {
   "cell_type": "code",
   "execution_count": 220,
   "id": "a8ee853c",
   "metadata": {},
   "outputs": [
    {
     "data": {
      "text/plain": [
       "(0.9438202247191011, 0.9891304347826086, 0.9659442724458205)"
      ]
     },
     "execution_count": 220,
     "metadata": {},
     "output_type": "execute_result"
    }
   ],
   "source": [
    "precision_score(y_train, y_pred_train_tree), recall_score(y_train, y_pred_train_tree), f1_score(y_train, y_pred_train_tree)"
   ]
  },
  {
   "cell_type": "markdown",
   "id": "a2ab08b0",
   "metadata": {},
   "source": [
    "So the best model here is simple DT and DT with smote"
   ]
  },
  {
   "cell_type": "markdown",
   "id": "5b272fb9",
   "metadata": {},
   "source": [
    "Best models"
   ]
  },
  {
   "cell_type": "code",
   "execution_count": 221,
   "id": "be00dc8a",
   "metadata": {},
   "outputs": [
    {
     "data": {
      "text/plain": [
       "['Simple RF_model.pkl']"
      ]
     },
     "execution_count": 221,
     "metadata": {},
     "output_type": "execute_result"
    }
   ],
   "source": [
    "joblib.dump(tree_clf, 'Simple RF_model.pkl') "
   ]
  },
  {
   "cell_type": "code",
   "execution_count": 222,
   "id": "2564ec3f",
   "metadata": {},
   "outputs": [
    {
     "data": {
      "text/plain": [
       "['RF_Smote.pkl']"
      ]
     },
     "execution_count": 222,
     "metadata": {},
     "output_type": "execute_result"
    }
   ],
   "source": [
    "joblib.dump(tree_clf, 'RF_Smote.pkl') "
   ]
  },
  {
   "cell_type": "code",
   "execution_count": null,
   "id": "aa2f043d",
   "metadata": {},
   "outputs": [],
   "source": []
  }
 ],
 "metadata": {
  "kernelspec": {
   "display_name": "Python 3",
   "language": "python",
   "name": "python3"
  },
  "language_info": {
   "codemirror_mode": {
    "name": "ipython",
    "version": 3
   },
   "file_extension": ".py",
   "mimetype": "text/x-python",
   "name": "python",
   "nbconvert_exporter": "python",
   "pygments_lexer": "ipython3",
   "version": "3.13.5"
  }
 },
 "nbformat": 4,
 "nbformat_minor": 5
}
